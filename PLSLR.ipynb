{
  "nbformat": 4,
  "nbformat_minor": 0,
  "metadata": {
    "colab": {
      "name": "PLSLR.ipynb",
      "provenance": [],
      "collapsed_sections": [],
      "authorship_tag": "ABX9TyN+OcOhH/TwhwCHBO9XBIUb",
      "include_colab_link": true
    },
    "kernelspec": {
      "name": "python3",
      "display_name": "Python 3"
    },
    "language_info": {
      "name": "python"
    }
  },
  "cells": [
    {
      "cell_type": "markdown",
      "metadata": {
        "id": "view-in-github",
        "colab_type": "text"
      },
      "source": [
        "<a href=\"https://colab.research.google.com/github/bindubritta/STAT5320/blob/main/PLSLR.ipynb\" target=\"_parent\"><img src=\"https://colab.research.google.com/assets/colab-badge.svg\" alt=\"Open In Colab\"/></a>"
      ]
    },
    {
      "cell_type": "markdown",
      "source": [
        "Partial Least-Squares Logit Regression (PLSLR)"
      ],
      "metadata": {
        "id": "diBYP_Bfp-6x"
      }
    },
    {
      "cell_type": "code",
      "execution_count": 46,
      "metadata": {
        "colab": {
          "base_uri": "https://localhost:8080/",
          "height": 487
        },
        "id": "Ls_P02l2p0G8",
        "outputId": "1d51b499-6872-4d41-d3b5-4e16e2c8db7e"
      },
      "outputs": [
        {
          "output_type": "execute_result",
          "data": {
            "text/plain": [
              "    Samples    Gene_1    Gene_2    Gene_3    Gene_4    Gene_5    Gene_6  \\\n",
              "0         1 -0.788350 -0.756913 -1.414095 -0.718028  0.473398  3.113805   \n",
              "1         2 -1.335163 -1.335163 -1.335163 -1.205542 -0.055226  0.251215   \n",
              "2         3 -1.423499 -1.423499 -1.389461 -0.069438  0.911507  2.080529   \n",
              "3         4 -0.941616 -1.362703 -1.362703 -0.959263 -0.052647  2.210509   \n",
              "4         5 -1.373415 -0.527130 -1.373415 -1.191340  0.068572  0.963808   \n",
              "..      ...       ...       ...       ...       ...       ...       ...   \n",
              "67       68 -1.069315  0.490642 -1.362381 -0.837656  0.290049 -1.362381   \n",
              "68       69 -1.422469 -1.422469  0.157955  0.121096  0.957790 -1.422469   \n",
              "69       70 -1.041304  0.066865 -1.041304 -0.680756 -0.040154  3.177571   \n",
              "70       71 -1.210655 -0.834006 -1.210655 -0.920232  0.409746 -1.210655   \n",
              "71       72 -1.290242 -0.166813 -1.290242 -1.290242 -0.230765 -1.290242   \n",
              "\n",
              "      Gene_7    Gene_8    Gene_9  ...  Gene_3563  Gene_3564  Gene_3565  \\\n",
              "0   2.749407  2.628862  3.146849  ...  -0.660664  -0.277515  -0.190609   \n",
              "1  -1.213103  1.040300  3.097184  ...  -0.756412  -0.670722  -0.603962   \n",
              "2   1.603549  1.702697  2.980989  ...  -0.487601  -0.091597   0.289707   \n",
              "3   1.520901  1.625528  3.244964  ...  -1.135454  -0.230745  -0.330132   \n",
              "4   1.654828 -0.319909  3.193077  ...  -1.373415  -0.948803  -0.845447   \n",
              "..       ...       ...       ...  ...        ...        ...        ...   \n",
              "67 -1.362381 -1.362381  2.966510  ...  -0.709472  -0.745946  -1.106406   \n",
              "68 -1.422469 -1.422469  3.025302  ...  -0.937056  -0.486363  -0.615953   \n",
              "69  2.530065  2.983361  3.502013  ...  -1.041304  -1.041304  -0.581682   \n",
              "70 -1.210655 -1.210655  2.707367  ...  -0.720648  -0.428079  -0.614412   \n",
              "71 -1.290242 -1.290242  2.683186  ...  -0.302630  -0.132549  -0.145576   \n",
              "\n",
              "    Gene_3566  Gene_3567  Gene_3568  Gene_3569  Gene_3570  Gene_3571  Response  \n",
              "0    1.096830   0.069212  -0.178846   0.468823  -0.331179  -0.825661    Normal  \n",
              "1    0.263903   0.520380  -0.037259   0.461020  -0.390380  -1.335163    Normal  \n",
              "2    0.328599   0.732303  -0.973264   0.686988   0.355827  -0.708238    Normal  \n",
              "3    0.483504   0.590966  -0.852819   0.327239  -0.874228  -1.149951    Normal  \n",
              "4    0.306028   0.339066   0.107542  -0.534426  -0.325722  -1.373415    Normal  \n",
              "..        ...        ...        ...        ...        ...        ...       ...  \n",
              "67   0.673558   0.076040   0.663305   0.050385  -0.584246  -1.362381    Normal  \n",
              "68   0.745703   0.172275   0.329213   0.333950  -0.677415  -1.346944    Normal  \n",
              "69   1.154342   0.060892  -0.203257   0.066865  -0.513601  -0.502712    Normal  \n",
              "70   1.349644   0.704953  -0.551259  -0.032819  -0.518925  -1.210655    Normal  \n",
              "71   1.418736   0.487898   0.859663   0.695140  -0.036836  -0.500004    Normal  \n",
              "\n",
              "[72 rows x 3573 columns]"
            ],
            "text/html": [
              "\n",
              "  <div id=\"df-411eb52e-42e9-476a-822b-9790ecf90f02\">\n",
              "    <div class=\"colab-df-container\">\n",
              "      <div>\n",
              "<style scoped>\n",
              "    .dataframe tbody tr th:only-of-type {\n",
              "        vertical-align: middle;\n",
              "    }\n",
              "\n",
              "    .dataframe tbody tr th {\n",
              "        vertical-align: top;\n",
              "    }\n",
              "\n",
              "    .dataframe thead th {\n",
              "        text-align: right;\n",
              "    }\n",
              "</style>\n",
              "<table border=\"1\" class=\"dataframe\">\n",
              "  <thead>\n",
              "    <tr style=\"text-align: right;\">\n",
              "      <th></th>\n",
              "      <th>Samples</th>\n",
              "      <th>Gene_1</th>\n",
              "      <th>Gene_2</th>\n",
              "      <th>Gene_3</th>\n",
              "      <th>Gene_4</th>\n",
              "      <th>Gene_5</th>\n",
              "      <th>Gene_6</th>\n",
              "      <th>Gene_7</th>\n",
              "      <th>Gene_8</th>\n",
              "      <th>Gene_9</th>\n",
              "      <th>...</th>\n",
              "      <th>Gene_3563</th>\n",
              "      <th>Gene_3564</th>\n",
              "      <th>Gene_3565</th>\n",
              "      <th>Gene_3566</th>\n",
              "      <th>Gene_3567</th>\n",
              "      <th>Gene_3568</th>\n",
              "      <th>Gene_3569</th>\n",
              "      <th>Gene_3570</th>\n",
              "      <th>Gene_3571</th>\n",
              "      <th>Response</th>\n",
              "    </tr>\n",
              "  </thead>\n",
              "  <tbody>\n",
              "    <tr>\n",
              "      <th>0</th>\n",
              "      <td>1</td>\n",
              "      <td>-0.788350</td>\n",
              "      <td>-0.756913</td>\n",
              "      <td>-1.414095</td>\n",
              "      <td>-0.718028</td>\n",
              "      <td>0.473398</td>\n",
              "      <td>3.113805</td>\n",
              "      <td>2.749407</td>\n",
              "      <td>2.628862</td>\n",
              "      <td>3.146849</td>\n",
              "      <td>...</td>\n",
              "      <td>-0.660664</td>\n",
              "      <td>-0.277515</td>\n",
              "      <td>-0.190609</td>\n",
              "      <td>1.096830</td>\n",
              "      <td>0.069212</td>\n",
              "      <td>-0.178846</td>\n",
              "      <td>0.468823</td>\n",
              "      <td>-0.331179</td>\n",
              "      <td>-0.825661</td>\n",
              "      <td>Normal</td>\n",
              "    </tr>\n",
              "    <tr>\n",
              "      <th>1</th>\n",
              "      <td>2</td>\n",
              "      <td>-1.335163</td>\n",
              "      <td>-1.335163</td>\n",
              "      <td>-1.335163</td>\n",
              "      <td>-1.205542</td>\n",
              "      <td>-0.055226</td>\n",
              "      <td>0.251215</td>\n",
              "      <td>-1.213103</td>\n",
              "      <td>1.040300</td>\n",
              "      <td>3.097184</td>\n",
              "      <td>...</td>\n",
              "      <td>-0.756412</td>\n",
              "      <td>-0.670722</td>\n",
              "      <td>-0.603962</td>\n",
              "      <td>0.263903</td>\n",
              "      <td>0.520380</td>\n",
              "      <td>-0.037259</td>\n",
              "      <td>0.461020</td>\n",
              "      <td>-0.390380</td>\n",
              "      <td>-1.335163</td>\n",
              "      <td>Normal</td>\n",
              "    </tr>\n",
              "    <tr>\n",
              "      <th>2</th>\n",
              "      <td>3</td>\n",
              "      <td>-1.423499</td>\n",
              "      <td>-1.423499</td>\n",
              "      <td>-1.389461</td>\n",
              "      <td>-0.069438</td>\n",
              "      <td>0.911507</td>\n",
              "      <td>2.080529</td>\n",
              "      <td>1.603549</td>\n",
              "      <td>1.702697</td>\n",
              "      <td>2.980989</td>\n",
              "      <td>...</td>\n",
              "      <td>-0.487601</td>\n",
              "      <td>-0.091597</td>\n",
              "      <td>0.289707</td>\n",
              "      <td>0.328599</td>\n",
              "      <td>0.732303</td>\n",
              "      <td>-0.973264</td>\n",
              "      <td>0.686988</td>\n",
              "      <td>0.355827</td>\n",
              "      <td>-0.708238</td>\n",
              "      <td>Normal</td>\n",
              "    </tr>\n",
              "    <tr>\n",
              "      <th>3</th>\n",
              "      <td>4</td>\n",
              "      <td>-0.941616</td>\n",
              "      <td>-1.362703</td>\n",
              "      <td>-1.362703</td>\n",
              "      <td>-0.959263</td>\n",
              "      <td>-0.052647</td>\n",
              "      <td>2.210509</td>\n",
              "      <td>1.520901</td>\n",
              "      <td>1.625528</td>\n",
              "      <td>3.244964</td>\n",
              "      <td>...</td>\n",
              "      <td>-1.135454</td>\n",
              "      <td>-0.230745</td>\n",
              "      <td>-0.330132</td>\n",
              "      <td>0.483504</td>\n",
              "      <td>0.590966</td>\n",
              "      <td>-0.852819</td>\n",
              "      <td>0.327239</td>\n",
              "      <td>-0.874228</td>\n",
              "      <td>-1.149951</td>\n",
              "      <td>Normal</td>\n",
              "    </tr>\n",
              "    <tr>\n",
              "      <th>4</th>\n",
              "      <td>5</td>\n",
              "      <td>-1.373415</td>\n",
              "      <td>-0.527130</td>\n",
              "      <td>-1.373415</td>\n",
              "      <td>-1.191340</td>\n",
              "      <td>0.068572</td>\n",
              "      <td>0.963808</td>\n",
              "      <td>1.654828</td>\n",
              "      <td>-0.319909</td>\n",
              "      <td>3.193077</td>\n",
              "      <td>...</td>\n",
              "      <td>-1.373415</td>\n",
              "      <td>-0.948803</td>\n",
              "      <td>-0.845447</td>\n",
              "      <td>0.306028</td>\n",
              "      <td>0.339066</td>\n",
              "      <td>0.107542</td>\n",
              "      <td>-0.534426</td>\n",
              "      <td>-0.325722</td>\n",
              "      <td>-1.373415</td>\n",
              "      <td>Normal</td>\n",
              "    </tr>\n",
              "    <tr>\n",
              "      <th>...</th>\n",
              "      <td>...</td>\n",
              "      <td>...</td>\n",
              "      <td>...</td>\n",
              "      <td>...</td>\n",
              "      <td>...</td>\n",
              "      <td>...</td>\n",
              "      <td>...</td>\n",
              "      <td>...</td>\n",
              "      <td>...</td>\n",
              "      <td>...</td>\n",
              "      <td>...</td>\n",
              "      <td>...</td>\n",
              "      <td>...</td>\n",
              "      <td>...</td>\n",
              "      <td>...</td>\n",
              "      <td>...</td>\n",
              "      <td>...</td>\n",
              "      <td>...</td>\n",
              "      <td>...</td>\n",
              "      <td>...</td>\n",
              "      <td>...</td>\n",
              "    </tr>\n",
              "    <tr>\n",
              "      <th>67</th>\n",
              "      <td>68</td>\n",
              "      <td>-1.069315</td>\n",
              "      <td>0.490642</td>\n",
              "      <td>-1.362381</td>\n",
              "      <td>-0.837656</td>\n",
              "      <td>0.290049</td>\n",
              "      <td>-1.362381</td>\n",
              "      <td>-1.362381</td>\n",
              "      <td>-1.362381</td>\n",
              "      <td>2.966510</td>\n",
              "      <td>...</td>\n",
              "      <td>-0.709472</td>\n",
              "      <td>-0.745946</td>\n",
              "      <td>-1.106406</td>\n",
              "      <td>0.673558</td>\n",
              "      <td>0.076040</td>\n",
              "      <td>0.663305</td>\n",
              "      <td>0.050385</td>\n",
              "      <td>-0.584246</td>\n",
              "      <td>-1.362381</td>\n",
              "      <td>Normal</td>\n",
              "    </tr>\n",
              "    <tr>\n",
              "      <th>68</th>\n",
              "      <td>69</td>\n",
              "      <td>-1.422469</td>\n",
              "      <td>-1.422469</td>\n",
              "      <td>0.157955</td>\n",
              "      <td>0.121096</td>\n",
              "      <td>0.957790</td>\n",
              "      <td>-1.422469</td>\n",
              "      <td>-1.422469</td>\n",
              "      <td>-1.422469</td>\n",
              "      <td>3.025302</td>\n",
              "      <td>...</td>\n",
              "      <td>-0.937056</td>\n",
              "      <td>-0.486363</td>\n",
              "      <td>-0.615953</td>\n",
              "      <td>0.745703</td>\n",
              "      <td>0.172275</td>\n",
              "      <td>0.329213</td>\n",
              "      <td>0.333950</td>\n",
              "      <td>-0.677415</td>\n",
              "      <td>-1.346944</td>\n",
              "      <td>Normal</td>\n",
              "    </tr>\n",
              "    <tr>\n",
              "      <th>69</th>\n",
              "      <td>70</td>\n",
              "      <td>-1.041304</td>\n",
              "      <td>0.066865</td>\n",
              "      <td>-1.041304</td>\n",
              "      <td>-0.680756</td>\n",
              "      <td>-0.040154</td>\n",
              "      <td>3.177571</td>\n",
              "      <td>2.530065</td>\n",
              "      <td>2.983361</td>\n",
              "      <td>3.502013</td>\n",
              "      <td>...</td>\n",
              "      <td>-1.041304</td>\n",
              "      <td>-1.041304</td>\n",
              "      <td>-0.581682</td>\n",
              "      <td>1.154342</td>\n",
              "      <td>0.060892</td>\n",
              "      <td>-0.203257</td>\n",
              "      <td>0.066865</td>\n",
              "      <td>-0.513601</td>\n",
              "      <td>-0.502712</td>\n",
              "      <td>Normal</td>\n",
              "    </tr>\n",
              "    <tr>\n",
              "      <th>70</th>\n",
              "      <td>71</td>\n",
              "      <td>-1.210655</td>\n",
              "      <td>-0.834006</td>\n",
              "      <td>-1.210655</td>\n",
              "      <td>-0.920232</td>\n",
              "      <td>0.409746</td>\n",
              "      <td>-1.210655</td>\n",
              "      <td>-1.210655</td>\n",
              "      <td>-1.210655</td>\n",
              "      <td>2.707367</td>\n",
              "      <td>...</td>\n",
              "      <td>-0.720648</td>\n",
              "      <td>-0.428079</td>\n",
              "      <td>-0.614412</td>\n",
              "      <td>1.349644</td>\n",
              "      <td>0.704953</td>\n",
              "      <td>-0.551259</td>\n",
              "      <td>-0.032819</td>\n",
              "      <td>-0.518925</td>\n",
              "      <td>-1.210655</td>\n",
              "      <td>Normal</td>\n",
              "    </tr>\n",
              "    <tr>\n",
              "      <th>71</th>\n",
              "      <td>72</td>\n",
              "      <td>-1.290242</td>\n",
              "      <td>-0.166813</td>\n",
              "      <td>-1.290242</td>\n",
              "      <td>-1.290242</td>\n",
              "      <td>-0.230765</td>\n",
              "      <td>-1.290242</td>\n",
              "      <td>-1.290242</td>\n",
              "      <td>-1.290242</td>\n",
              "      <td>2.683186</td>\n",
              "      <td>...</td>\n",
              "      <td>-0.302630</td>\n",
              "      <td>-0.132549</td>\n",
              "      <td>-0.145576</td>\n",
              "      <td>1.418736</td>\n",
              "      <td>0.487898</td>\n",
              "      <td>0.859663</td>\n",
              "      <td>0.695140</td>\n",
              "      <td>-0.036836</td>\n",
              "      <td>-0.500004</td>\n",
              "      <td>Normal</td>\n",
              "    </tr>\n",
              "  </tbody>\n",
              "</table>\n",
              "<p>72 rows × 3573 columns</p>\n",
              "</div>\n",
              "      <button class=\"colab-df-convert\" onclick=\"convertToInteractive('df-411eb52e-42e9-476a-822b-9790ecf90f02')\"\n",
              "              title=\"Convert this dataframe to an interactive table.\"\n",
              "              style=\"display:none;\">\n",
              "        \n",
              "  <svg xmlns=\"http://www.w3.org/2000/svg\" height=\"24px\"viewBox=\"0 0 24 24\"\n",
              "       width=\"24px\">\n",
              "    <path d=\"M0 0h24v24H0V0z\" fill=\"none\"/>\n",
              "    <path d=\"M18.56 5.44l.94 2.06.94-2.06 2.06-.94-2.06-.94-.94-2.06-.94 2.06-2.06.94zm-11 1L8.5 8.5l.94-2.06 2.06-.94-2.06-.94L8.5 2.5l-.94 2.06-2.06.94zm10 10l.94 2.06.94-2.06 2.06-.94-2.06-.94-.94-2.06-.94 2.06-2.06.94z\"/><path d=\"M17.41 7.96l-1.37-1.37c-.4-.4-.92-.59-1.43-.59-.52 0-1.04.2-1.43.59L10.3 9.45l-7.72 7.72c-.78.78-.78 2.05 0 2.83L4 21.41c.39.39.9.59 1.41.59.51 0 1.02-.2 1.41-.59l7.78-7.78 2.81-2.81c.8-.78.8-2.07 0-2.86zM5.41 20L4 18.59l7.72-7.72 1.47 1.35L5.41 20z\"/>\n",
              "  </svg>\n",
              "      </button>\n",
              "      \n",
              "  <style>\n",
              "    .colab-df-container {\n",
              "      display:flex;\n",
              "      flex-wrap:wrap;\n",
              "      gap: 12px;\n",
              "    }\n",
              "\n",
              "    .colab-df-convert {\n",
              "      background-color: #E8F0FE;\n",
              "      border: none;\n",
              "      border-radius: 50%;\n",
              "      cursor: pointer;\n",
              "      display: none;\n",
              "      fill: #1967D2;\n",
              "      height: 32px;\n",
              "      padding: 0 0 0 0;\n",
              "      width: 32px;\n",
              "    }\n",
              "\n",
              "    .colab-df-convert:hover {\n",
              "      background-color: #E2EBFA;\n",
              "      box-shadow: 0px 1px 2px rgba(60, 64, 67, 0.3), 0px 1px 3px 1px rgba(60, 64, 67, 0.15);\n",
              "      fill: #174EA6;\n",
              "    }\n",
              "\n",
              "    [theme=dark] .colab-df-convert {\n",
              "      background-color: #3B4455;\n",
              "      fill: #D2E3FC;\n",
              "    }\n",
              "\n",
              "    [theme=dark] .colab-df-convert:hover {\n",
              "      background-color: #434B5C;\n",
              "      box-shadow: 0px 1px 3px 1px rgba(0, 0, 0, 0.15);\n",
              "      filter: drop-shadow(0px 1px 2px rgba(0, 0, 0, 0.3));\n",
              "      fill: #FFFFFF;\n",
              "    }\n",
              "  </style>\n",
              "\n",
              "      <script>\n",
              "        const buttonEl =\n",
              "          document.querySelector('#df-411eb52e-42e9-476a-822b-9790ecf90f02 button.colab-df-convert');\n",
              "        buttonEl.style.display =\n",
              "          google.colab.kernel.accessAllowed ? 'block' : 'none';\n",
              "\n",
              "        async function convertToInteractive(key) {\n",
              "          const element = document.querySelector('#df-411eb52e-42e9-476a-822b-9790ecf90f02');\n",
              "          const dataTable =\n",
              "            await google.colab.kernel.invokeFunction('convertToInteractive',\n",
              "                                                     [key], {});\n",
              "          if (!dataTable) return;\n",
              "\n",
              "          const docLinkHtml = 'Like what you see? Visit the ' +\n",
              "            '<a target=\"_blank\" href=https://colab.research.google.com/notebooks/data_table.ipynb>data table notebook</a>'\n",
              "            + ' to learn more about interactive tables.';\n",
              "          element.innerHTML = '';\n",
              "          dataTable['output_type'] = 'display_data';\n",
              "          await google.colab.output.renderOutput(dataTable, element);\n",
              "          const docLink = document.createElement('div');\n",
              "          docLink.innerHTML = docLinkHtml;\n",
              "          element.appendChild(docLink);\n",
              "        }\n",
              "      </script>\n",
              "    </div>\n",
              "  </div>\n",
              "  "
            ]
          },
          "metadata": {},
          "execution_count": 46
        }
      ],
      "source": [
        "## Open CSV dataset from GitHub\n",
        "import pandas as pd\n",
        "\n",
        "url = 'https://raw.githubusercontent.com/bindubritta/STAT5320/main/Leukemia_Dataset.csv'\n",
        "dataFrame = pd.read_csv(url)\n",
        "# print(dataFrame.head(5))\n",
        "dataFrame"
      ]
    },
    {
      "cell_type": "code",
      "source": [
        "## Processing dataset for Latent Variables or PLS Components Analysis\n",
        "# Dummy variables to represent categorical data as numeric (Normal = 0 and Tumor = 1)\n",
        "dataFrame['Dummy_Response'] = pd.get_dummies(dataFrame['Response']).iloc[:,1]\n",
        "# Removing columns 'Samples' and 'Response\" as not needed for analysis\n",
        "dataFrame = dataFrame.drop(columns = ['Samples', 'Response'])\n",
        "# Split the dataset into X and y\n",
        "y = dataFrame.pop('Dummy_Response')\n",
        "X = dataFrame"
      ],
      "metadata": {
        "id": "naszUytcEJSg"
      },
      "execution_count": 47,
      "outputs": []
    },
    {
      "cell_type": "code",
      "source": [
        "## Finding the optimum number of Latent Variable Components based on the retained information\n",
        "import warnings\n",
        "import numpy as np\n",
        "import matplotlib.pyplot as plt\n",
        "from sklearn.cross_decomposition import PLSRegression\n",
        "\n",
        "# maxLength = X.shape[1]+1\n",
        "maxLength = 39\n",
        "iVariance = [0 for i in range(maxLength)]\n",
        "totalVariance = 0\n",
        "\n",
        "for i in range(maxLength):\n",
        "  pls = PLSRegression(n_components = i+1)\n",
        "  X_pls = pls.fit_transform(X, y)[0]\n",
        "  iVariance[i] = np.var(X_pls)\n",
        "  with warnings.catch_warnings():\n",
        "    warnings.filterwarnings(\"ignore\", category = DeprecationWarning)    \n",
        "  totalVariance = totalVariance + iVariance[i]\n",
        "  \n",
        "fracVariance = [0 for j in range(i)]\n",
        "indvVariance = [0 for j in range(i)]\n",
        "for j in range(i):\n",
        "  indvVariance[j] = iVariance[j] / totalVariance\n",
        "  if j < 1:\n",
        "    fracVariance[j] = indvVariance[j]\n",
        "  else:\n",
        "    fracVariance[j] = fracVariance[j-1] + indvVariance[j]\n",
        "\n",
        "plt.figure(figsize = [10,6])\n",
        "## Placing the plots in the plane\n",
        "plot1 = plt.subplot2grid((1, 2), (0, 0), rowspan = 1, colspan = 1)\n",
        "plot2 = plt.subplot2grid((1, 2), (0, 1), rowspan = 1, colspan = 1)\n",
        "\n",
        "## Plot 1: Explained Total Variance Vs No. of PLS Component\n",
        "plot1.plot(fracVariance)\n",
        "# plot1.set_title('Explained Variance Ratio for PLS')\n",
        "plot1.set_xlabel('Number of PLS Component')\n",
        "plot1.set_ylabel('Cumulative Variance Explained')\n",
        "plot1.vlines(x = 32, ymax = 1, ymin = 0, colors = \"r\", linestyles = \"--\")\n",
        "plot1.hlines(y = 0.91, xmax = 40, xmin = 0, colors = \"g\", linestyles = \"--\")\n",
        "\n",
        "## Plot 2: Explained Variance Vs PLS Component\n",
        "plot2.plot(indvVariance)\n",
        "# plot1.set_title('Explained Variance Ratio for PLS')\n",
        "plot2.set_xlabel('Number of PLS Component')\n",
        "plot2.set_ylabel('Individual Variance Explained')\n",
        "plot2.vlines(x = 32, ymax = 0.085, ymin = 0, colors = \"r\", linestyles = \"--\")\n",
        "plot2.hlines(y = 0.015, xmax = 40, xmin = 0, colors = \"g\", linestyles = \"--\")\n",
        "\n",
        "plt.show()"
      ],
      "metadata": {
        "colab": {
          "base_uri": "https://localhost:8080/",
          "height": 388
        },
        "id": "lLiQauhuFOnX",
        "outputId": "73e501bd-9650-4a9e-a7de-5af63e479195"
      },
      "execution_count": 48,
      "outputs": [
        {
          "output_type": "display_data",
          "data": {
            "text/plain": [
              "<Figure size 720x432 with 2 Axes>"
            ],
            "image/png": "[encoded data removed]"
          },
          "metadata": {
            "needs_background": "light"
          }
        }
      ]
    },
    {
      "cell_type": "markdown",
      "source": [
        "/usr/local/lib/python3.7/dist-packages/sklearn/cross_decomposition/_pls.py:305: UserWarning: Y residual is constant at iteration 39\n",
        "  warnings.warn(f\"Y residual is constant at iteration {k}\")"
      ],
      "metadata": {
        "id": "9-c7jU9jbogT"
      }
    },
    {
      "cell_type": "code",
      "source": [
        "## Training the PLA Model with 32 PLS Components\n",
        "plsFinalModel = PLSRegression(n_components = 32)\n",
        "dataFrameXplsFinal = plsFinalModel.fit_transform(X, y)[0]"
      ],
      "metadata": {
        "id": "3b60YtwUyT54"
      },
      "execution_count": 49,
      "outputs": []
    },
    {
      "cell_type": "code",
      "source": [
        "## Checking the correlations among PLS Components\n",
        "import seaborn as sns\n",
        "\n",
        "corrMatrix = np.corrcoef(dataFrameXplsFinal.transpose())\n",
        "plt.figure(figsize = [16,9])\n",
        "sns.heatmap(corrMatrix, annot = False)\n",
        "plt.show()"
      ],
      "metadata": {
        "colab": {
          "base_uri": "https://localhost:8080/",
          "height": 541
        },
        "id": "QPrg2CfU7mWD",
        "outputId": "a450a7d7-400a-4a7b-b197-a1fce91f5c40"
      },
      "execution_count": 50,
      "outputs": [
        {
          "output_type": "display_data",
          "data": {
            "text/plain": [
              "<Figure size 1152x648 with 2 Axes>"
            ],
            "image/png": "[encoded data removed]"
          },
          "metadata": {
            "needs_background": "light"
          }
        }
      ]
    },
    {
      "cell_type": "code",
      "source": [
        "## Splitting the data into training and test data set\n",
        "from sklearn.model_selection import train_test_split \n",
        "XTrain, XTest, yTrain, yTest = train_test_split(dataFrameXplsFinal,y, train_size = 0.8,\n",
        "                                test_size = 0.2, shuffle = True, random_state = 1)"
      ],
      "metadata": {
        "id": "GbHpSCwRE6nD"
      },
      "execution_count": 51,
      "outputs": []
    },
    {
      "cell_type": "code",
      "source": [
        "## Training the Logistic Regression model with PLS\n",
        "from sklearn.linear_model import LogisticRegression\n",
        "\n",
        "logPLSLearner = LogisticRegression()\n",
        "logPLSModel = logPLSLearner.fit(XTrain, yTrain)"
      ],
      "metadata": {
        "id": "LpoJGQERCl7x"
      },
      "execution_count": 52,
      "outputs": []
    },
    {
      "cell_type": "code",
      "source": [
        "## Calculating the Area Under the Curve (AUC)\n",
        "from sklearn.metrics import roc_auc_score\n",
        "\n",
        "predTest = logPLSModel.predict_proba(XTest)\n",
        "\"{:2.2}\".format(roc_auc_score(yTest, predTest[:,1]))"
      ],
      "metadata": {
        "colab": {
          "base_uri": "https://localhost:8080/",
          "height": 35
        },
        "id": "VYoyHrWbDItO",
        "outputId": "b49ddc9f-72c6-405d-830d-2363c4cd84d5"
      },
      "execution_count": 53,
      "outputs": [
        {
          "output_type": "execute_result",
          "data": {
            "text/plain": [
              "'1.0'"
            ],
            "application/vnd.google.colaboratory.intrinsic+json": {
              "type": "string"
            }
          },
          "metadata": {},
          "execution_count": 53
        }
      ]
    },
    {
      "cell_type": "code",
      "source": [
        "## Testing the Logistic Regression model with PLS\n",
        "\n",
        "# Calculating the predicted probabilities and converting to dataframe\n",
        "yPred = logPLSModel.predict_proba(XTest)\n",
        "yPredDataFrame = pd.DataFrame(yPred)\n",
        "yPredOne = yPredDataFrame.iloc[:,[1]]\n",
        "\n",
        "# Converting yTest to dataframe with columns ID\n",
        "yTestDataFrame = pd.DataFrame(yTest)"
      ],
      "metadata": {
        "id": "L0q7YDzPDZLP"
      },
      "execution_count": 54,
      "outputs": []
    },
    {
      "cell_type": "code",
      "source": [
        "# Re-inserting the column 'Samples' from test data index and then arranging the yPredictFinal dataframe\n",
        "yTestDataFrame['Samples'] = yTestDataFrame.index\n",
        "yTestDataFrame = yTestDataFrame[['Samples', 'Dummy_Response']]\n",
        "yPredOne.reset_index(drop = True, inplace = True)\n",
        "yTestDataFrame.reset_index(drop = True, inplace = True)\n",
        "yPredFinal = pd.concat([yTestDataFrame, yPredOne], axis = 1)\n",
        "yPredFinal = yPredFinal.rename(columns = { 1 : \"Yes_Prob\", \"target_variable\" : \"Yes\" } )\n",
        "yPredFinal = yPredFinal.reindex([\"Samples\", \"Dummy_Response\", \"Yes_Prob\"], axis = 1)\n",
        "\n",
        "# Creating columns with different probability cutoffs \n",
        "numbers = [float(x)/10 for x in range(10)]\n",
        "for i in numbers:\n",
        "    yPredFinal[i] = yPredFinal.Yes_Prob.map(lambda x: 1 if x > i else 0)"
      ],
      "metadata": {
        "id": "z76F9zRdDuWv"
      },
      "execution_count": 55,
      "outputs": []
    },
    {
      "cell_type": "code",
      "source": [
        "# Calculating accuracy, sensitivity and specificity for different cutoff points\n",
        "from sklearn.metrics import confusion_matrix\n",
        "\n",
        "Probability = pd.DataFrame( columns = ['Probability', 'Accuracy', 'Sensitivity', 'Specificity'])\n",
        "for i in numbers:\n",
        "    confMatrix = confusion_matrix(yPredFinal.Dummy_Response, yPredFinal[i] )\n",
        "    Total = sum(sum(confMatrix))\n",
        "    Accuracy    = (confMatrix[0,0] + confMatrix[1,1])/Total\n",
        "    Sensitivity = confMatrix[1,1]/(confMatrix[1,1] + confMatrix[1,0])\n",
        "    Specificity = confMatrix[0,0]/(confMatrix[0,0] + confMatrix[0,1])\n",
        "    Probability.loc[i] =[ i, Accuracy, Sensitivity, Specificity]\n",
        "Probability.plot.line(x='Probability', y=['Accuracy','Sensitivity','Specificity'])\n",
        "plt.show()"
      ],
      "metadata": {
        "colab": {
          "base_uri": "https://localhost:8080/",
          "height": 279
        },
        "id": "JfRQnew1D5UB",
        "outputId": "07a76deb-2b97-486d-8da0-966b7a4c6151"
      },
      "execution_count": 56,
      "outputs": [
        {
          "output_type": "display_data",
          "data": {
            "text/plain": [
              "<Figure size 432x288 with 1 Axes>"
            ],
            "image/png": "[encoded data removed]"
          },
          "metadata": {
            "needs_background": "light"
          }
        }
      ]
    },
    {
      "cell_type": "code",
      "source": [
        "## Confusion matrix for probability cutoff point = 0.2\n",
        "yPredFinal['predicted'] = yPredFinal.Yes_Prob.map(lambda x: 1 if x > 0.2 else 0)\n",
        "confMatrixFinal = confusion_matrix(yPredFinal.Dummy_Response, yPredFinal.predicted)\n",
        "Probability[Probability[\"Probability\"]==0.2]\n",
        "\n",
        "plt.figure(figsize=(8,4.5))\n",
        "sns.heatmap(confMatrixFinal, vmin=None, vmax=None, cmap=\"YlGnBu\", center=None,\n",
        "           robust=False, annot=True, fmt='.2g', annot_kws=None, linewidths=0,\n",
        "           linecolor='white', cbar=True, cbar_kws=None, cbar_ax=None,\n",
        "           square=True, xticklabels='auto', yticklabels='auto',\n",
        "           mask=None, ax=None)\n",
        "plt.xlabel(\"Predicted\")\n",
        "plt.ylabel(\"Actual\")\n",
        "plt.show()"
      ],
      "metadata": {
        "colab": {
          "base_uri": "https://localhost:8080/",
          "height": 311
        },
        "id": "5VENI6InEIxb",
        "outputId": "3e5e09cb-416d-49f2-81b5-07fea20dce03"
      },
      "execution_count": 57,
      "outputs": [
        {
          "output_type": "display_data",
          "data": {
            "text/plain": [
              "<Figure size 576x324 with 2 Axes>"
            ],
            "image/png": "[encoded data removed]"
          },
          "metadata": {
            "needs_background": "light"
          }
        }
      ]
    },
    {
      "cell_type": "code",
      "source": [
        "## Classification report for the PCLR model\n",
        "from sklearn.metrics import classification_report\n",
        "\n",
        "clfReport = classification_report(yPredFinal.Dummy_Response, yPredFinal.predicted,\n",
        "              labels=None, target_names=None, sample_weight=None, digits=2,\n",
        "              output_dict=False, zero_division=\"warn\")\n",
        "print(clfReport)"
      ],
      "metadata": {
        "colab": {
          "base_uri": "https://localhost:8080/"
        },
        "id": "yb3esX6eESbU",
        "outputId": "dd031810-88c2-4053-e71a-4db0ed974fd0"
      },
      "execution_count": 58,
      "outputs": [
        {
          "output_type": "stream",
          "name": "stdout",
          "text": [
            "              precision    recall  f1-score   support\n",
            "\n",
            "           0       1.00      1.00      1.00         9\n",
            "           1       1.00      1.00      1.00         6\n",
            "\n",
            "    accuracy                           1.00        15\n",
            "   macro avg       1.00      1.00      1.00        15\n",
            "weighted avg       1.00      1.00      1.00        15\n",
            "\n"
          ]
        }
      ]
    }
  ]
}